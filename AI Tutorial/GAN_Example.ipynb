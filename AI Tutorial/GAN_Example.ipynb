{
 "cells": [
  {
   "cell_type": "code",
   "execution_count": 1,
   "metadata": {},
   "outputs": [
    {
     "name": "stderr",
     "output_type": "stream",
     "text": [
      "Using TensorFlow backend.\n"
     ]
    }
   ],
   "source": [
    "import numpy as np\n",
    "import keras\n",
    "from keras.models import Sequential, Model\n",
    "from keras.layers import Input,Dense,Conv2D,BatchNormalization,Dropout,Flatten\n",
    "#Conv2DTranspose is used to go in a reverse order in neural network,reverse of feed forward\n",
    "from keras.layers import Activation,Reshape,Conv2DTranspose,UpSampling2D\n",
    "from keras.optimizers import RMSprop\n",
    "\n",
    "import pandas as pd\n",
    "from matplotlib import pyplot as plt\n",
    "%matplotlib inline"
   ]
  },
  {
   "cell_type": "code",
   "execution_count": 2,
   "metadata": {},
   "outputs": [],
   "source": [
    "input_images = 'db/apple.npy'\n",
    "data=np.load(input_images)"
   ]
  },
  {
   "cell_type": "code",
   "execution_count": 3,
   "metadata": {},
   "outputs": [
    {
     "data": {
      "text/plain": [
       "(144722, 784)"
      ]
     },
     "execution_count": 3,
     "metadata": {},
     "output_type": "execute_result"
    }
   ],
   "source": [
    "data.shape"
   ]
  },
  {
   "cell_type": "code",
   "execution_count": 4,
   "metadata": {},
   "outputs": [
    {
     "data": {
      "text/plain": [
       "array([  0,   0,   0,   0,   0,   0,   0,   0,   0,   0,   0,   0,   0,\n",
       "         0,   0,   0,   0,   0,   0,   0,   0,   0,   0,   0,   0,   0,\n",
       "         0,   0,   0,   0,   0,   0,   0,   0,   0,   0,   0,   0,   0,\n",
       "         0,   0,  36,  79,   0,   0,   0,   0,   0,   0,   0,   0,   0,\n",
       "         0,   0,   0,   0,   0,   0,   0,   0,   0,   0,   0,   0,   0,\n",
       "         0,   0,   0,   0, 134, 238,   0,   0,   0,   0,   0,   0,   0,\n",
       "         0,   0,   0,   0,   0,   0,   0,   0,   0,   0,   0,   0,   0,\n",
       "         0,   0,   0,   0,   0,   0, 119, 254,   4,   0,   0,   0,   0,\n",
       "         0,   0,   0,   0,   0,   0,   0,   0,   0,   0,   0,   0,   0,\n",
       "         0,   0,   0,   0,   0,   0,   0,   0, 101, 255,  21,   0,   0,\n",
       "         0,   0,   0,   0,   0,   0,   0,   0,   0,   0,   0,   0,   0,\n",
       "         0,   0,   0,   0,   0,   0,   0,   0,   0,   0,  82, 255,  39,\n",
       "         0,   0,   0,   0,   0,   0,   0,   0,   0,   0,   0,   0,   0,\n",
       "         0,   0,   0,   0,   0,   0,   0,   0,   0,   0,   0,   0,  64,\n",
       "       255,  57,   0,   0,   0,   0,   0,   0,   0,   0,   0,   0,   0,\n",
       "         0,   0,   0,   0,   0,   0,   0,   0,   0,   0,   0,   0,   0,\n",
       "         0,  46, 255,  76,   0,   0,   0,   0,   0,   0,   0,   0,   0,\n",
       "         0,   0,   0,   0,   0,   0,   0,   0,   0,   0,   0,   0,   0,\n",
       "         0,   0,   0,  28, 255,  94,   0,   2,  24,  44,   9,   0,   0,\n",
       "         0,   0,   0,   0,   0,   0,   0,   0,   0,   0,   0,   0,   8,\n",
       "        67, 135, 203, 253, 255, 255, 255, 245, 238, 253, 255, 255, 234,\n",
       "       127,  19,   0,   0,   0,   0,   0,   0,   0,   0,   0,   0,  53,\n",
       "       185, 246, 255, 246, 185, 127, 119, 120, 251, 197, 136, 124,  98,\n",
       "        84, 169, 252, 213,   8,   0,   0,   0,   0,   0,   0,   0,   0,\n",
       "        47, 239, 222, 135,  67,   8,   0,   0,   0,   0, 201, 112,   0,\n",
       "         0,   0,   0,   0,  78, 255,  65,   0,   0,   0,   0,   0,   0,\n",
       "         0,   0, 197, 223,  25,   0,   0,   0,   0,   0,   0,   0,   0,\n",
       "         0,   0,   0,   0,   0,   0,  24, 255, 100,   0,   0,   0,   0,\n",
       "         0,   0,   0,  11, 250, 123,   0,   0,   0,   0,   0,   0,   0,\n",
       "         0,   0,   0,   0,   0,   0,   0,   0,   1, 244, 134,   0,   0,\n",
       "         0,   0,   0,   0,   0,  54, 255,  71,   0,   0,   0,   0,   0,\n",
       "         0,   0,   0,   0,   0,   0,   0,  12,   2,   0,   0, 211, 169,\n",
       "         0,   0,   0,   0,   0,   0,   0,  58, 255, 137,   0,   0,   0,\n",
       "         0,   0,   0,   0,   0,   0,   0,   0,   1, 229, 125,   0,   0,\n",
       "       176, 203,   0,   0,   0,   0,   0,   0,   0,  58, 255, 213,   0,\n",
       "         0,   0,   0,   0,   0,   0,   0,   0,   0,   0,  33, 255, 199,\n",
       "         0,   0, 142, 237,   0,   0,   0,   0,   0,   0,   0,  51, 255,\n",
       "       229,   0,   0,   0,   0,   0,   0,   0,   0,   0,   0,   0,  94,\n",
       "       255, 251,  15,   0, 108, 255,  17,   0,   0,   0,   0,   0,   0,\n",
       "        29, 255, 244,   0,   0,   0,   0,   0,   0,   0,   0,   0,   0,\n",
       "         0, 197, 238, 255,  78,   0,  80, 255,  47,   0,   0,   0,   0,\n",
       "         0,   0,   6, 248, 255,   5,   0,   0,   0,   0,   0,   0,   0,\n",
       "         0,   0,  48, 255, 107, 236, 178,   0, 138, 246,  12,   0,   0,\n",
       "         0,   0,   0,   0,   0, 194, 255,  28,   0,   0,   0,   0,   0,\n",
       "         0,   0,   0,   0, 154, 241,  12, 105, 255,  89, 223, 173,   0,\n",
       "         0,   0,   0,   0,   0,   0,   0, 130, 255,  80,   0,   0,   0,\n",
       "         0,   0,   0,   0,   0,  16, 244, 147,   0,   1, 192, 248, 255,\n",
       "        88,   0,   0,   0,   0,   0,   0,   0,   0,  31, 243, 151,   0,\n",
       "         0,   0,   0,   0,   0,   0,  35, 204, 251,  41,   0,   0,  21,\n",
       "       162, 176,   7,   0,   0,   0,   0,   0,   0,   0,   0,   0, 143,\n",
       "       249,  39,   0,   0,   0,   0,   0,  88, 241, 232,  68,   0,   0,\n",
       "         0,   0,   0,   0,   0,   0,   0,   0,   0,   0,   0,   0,   0,\n",
       "         0,  21, 230, 232,  65,  19,  23, 111, 212, 255, 188,  24,   0,\n",
       "         0,   0,   0,   0,   0,   0,   0,   0,   0,   0,   0,   0,   0,\n",
       "         0,   0,   0,   0,  33, 216, 255, 255, 255, 254, 192,  90,   2,\n",
       "         0,   0,   0,   0,   0,   0,   0,   0,   0,   0,   0,   0,   0,\n",
       "         0,   0,   0,   0,   0,   0,   0,  16,  81, 105, 109,  35,   0,\n",
       "         0,   0,   0,   0,   0,   0,   0,   0,   0,   0,   0,   0,   0,\n",
       "         0,   0,   0,   0,   0,   0,   0,   0,   0,   0,   0,   0,   0,\n",
       "         0,   0,   0,   0,   0,   0,   0,   0,   0,   0,   0,   0,   0,\n",
       "         0,   0,   0,   0], dtype=uint8)"
      ]
     },
     "execution_count": 4,
     "metadata": {},
     "output_type": "execute_result"
    }
   ],
   "source": [
    "data[4242]"
   ]
  },
  {
   "cell_type": "code",
   "execution_count": 5,
   "metadata": {},
   "outputs": [
    {
     "data": {
      "text/plain": [
       "(144722, 28, 28, 1)"
      ]
     },
     "execution_count": 5,
     "metadata": {},
     "output_type": "execute_result"
    }
   ],
   "source": [
    "data=data/255\n",
    "data=np.reshape(data,(data.shape[0],28,28,1))\n",
    "img_w,img_h=data.shape[1:3]\n",
    "data.shape"
   ]
  },
  {
   "cell_type": "code",
   "execution_count": 6,
   "metadata": {},
   "outputs": [
    {
     "data": {
      "text/plain": [
       "<matplotlib.image.AxesImage at 0x24240b64588>"
      ]
     },
     "execution_count": 6,
     "metadata": {},
     "output_type": "execute_result"
    },
    {
     "data": {
      "image/png": "[encoded data removed]",
      "text/plain": [
       "<Figure size 432x288 with 1 Axes>"
      ]
     },
     "metadata": {
      "needs_background": "light"
     },
     "output_type": "display_data"
    }
   ],
   "source": [
    "plt.imshow(data[4242,:,:,0],cmap='Greys')"
   ]
  },
  {
   "cell_type": "code",
   "execution_count": 7,
   "metadata": {},
   "outputs": [],
   "source": [
    "# Here we a creating a convolutional network and we are increasing the depth as we go to next layer\n",
    "# We are feeding the result from previous layer to new set of layers so that we can convolve on previous results.\n",
    "def discriminator_builder(depth=64,p=0.4):\n",
    "    inputs=Input((img_w,img_h,1))\n",
    "    \n",
    "    #Conv2D has 64 neurons becuase depth is defined above as 5\n",
    "    #We are feeding back the first layer to same layer with a Droupout so that irrelevent pixels are droupped out.\n",
    "    #Map size is 5X5 and strides the postion after which next map should be located is 2\n",
    "    Conv1=Conv2D(depth*1,5,strides=2,padding='same',activation='relu')(inputs)\n",
    "    Conv1=Dropout(p) (Conv1)\n",
    "    \n",
    "    #Here we are trying to deepen the network by increasing the neurons.\n",
    "    Conv2=Conv2D(depth*2,5,strides=2,padding='same',activation='relu')(Conv1)\n",
    "    Conv2=Dropout(p) (Conv2)\n",
    "    \n",
    "    Conv3=Conv2D(depth*4,5,strides=2,padding='same',activation='relu')(Conv2)\n",
    "    Conv3=Dropout(p) (Conv3)\n",
    "    \n",
    "    #Here as we are increasing neurons we have reduced the position after next map should be taken\n",
    "    #This helps to moniter the image more closely.\n",
    "    #So after removal of waste areas from map now we can moniter the image more closely so it will focus on needed areas more effectively \n",
    "    Conv4=Conv2D(depth*8,5,strides=1,padding='same',activation='relu')(Conv3)\n",
    "    Conv4=Dropout(p) (Conv4)\n",
    "    \n",
    "    Conv5=Conv2D(depth*16,5,strides=1,padding='same',activation='relu')(Conv4)\n",
    "    Conv5=Dropout(p) (Conv5)\n",
    "    \n",
    "    output=Dense(1,activation='sigmoid')(Conv5)\n",
    "    model=Model(inputs = inputs,outputs=output)\n",
    "    model.summary()\n",
    "    return model"
   ]
  },
  {
   "cell_type": "code",
   "execution_count": 8,
   "metadata": {},
   "outputs": [
    {
     "name": "stdout",
     "output_type": "stream",
     "text": [
      "_________________________________________________________________\n",
      "Layer (type)                 Output Shape              Param #   \n",
      "=================================================================\n",
      "input_1 (InputLayer)         (None, 28, 28, 1)         0         \n",
      "_________________________________________________________________\n",
      "conv2d_1 (Conv2D)            (None, 14, 14, 64)        1664      \n",
      "_________________________________________________________________\n",
      "dropout_1 (Dropout)          (None, 14, 14, 64)        0         \n",
      "_________________________________________________________________\n",
      "conv2d_2 (Conv2D)            (None, 7, 7, 128)         204928    \n",
      "_________________________________________________________________\n",
      "dropout_2 (Dropout)          (None, 7, 7, 128)         0         \n",
      "_________________________________________________________________\n",
      "conv2d_3 (Conv2D)            (None, 4, 4, 256)         819456    \n",
      "_________________________________________________________________\n",
      "dropout_3 (Dropout)          (None, 4, 4, 256)         0         \n",
      "_________________________________________________________________\n",
      "conv2d_4 (Conv2D)            (None, 4, 4, 512)         3277312   \n",
      "_________________________________________________________________\n",
      "dropout_4 (Dropout)          (None, 4, 4, 512)         0         \n",
      "_________________________________________________________________\n",
      "conv2d_5 (Conv2D)            (None, 4, 4, 1024)        13108224  \n",
      "_________________________________________________________________\n",
      "dropout_5 (Dropout)          (None, 4, 4, 1024)        0         \n",
      "_________________________________________________________________\n",
      "dense_1 (Dense)              (None, 4, 4, 1)           1025      \n",
      "=================================================================\n",
      "Total params: 17,412,609\n",
      "Trainable params: 17,412,609\n",
      "Non-trainable params: 0\n",
      "_________________________________________________________________\n"
     ]
    }
   ],
   "source": [
    "discriminator=discriminator_builder()"
   ]
  },
  {
   "cell_type": "code",
   "execution_count": 9,
   "metadata": {},
   "outputs": [],
   "source": [
    "discriminator.compile(loss='binary_crossentropy',optimizer=RMSprop(lr=0.0008,decay=6e-8,clipvalue=1.0),metrics=['accuracy'])"
   ]
  },
  {
   "cell_type": "code",
   "execution_count": null,
   "metadata": {},
   "outputs": [],
   "source": []
  }
 ],
 "metadata": {
  "kernelspec": {
   "display_name": "Python 3",
   "language": "python",
   "name": "python3"
  },
  "language_info": {
   "codemirror_mode": {
    "name": "ipython",
    "version": 3
   },
   "file_extension": ".py",
   "mimetype": "text/x-python",
   "name": "python",
   "nbconvert_exporter": "python",
   "pygments_lexer": "ipython3",
   "version": "3.6.8"
  }
 },
 "nbformat": 4,
 "nbformat_minor": 2
}
