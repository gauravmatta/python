{
 "cells": [
  {
   "cell_type": "code",
   "execution_count": 1,
   "metadata": {},
   "outputs": [
    {
     "name": "stderr",
     "output_type": "stream",
     "text": [
      "Using TensorFlow backend.\n"
     ]
    }
   ],
   "source": [
    "import numpy as np\n",
    "import keras\n",
    "from keras.models import Sequential, Model\n",
    "from keras.layers import Input,Dense,Conv2D,BatchNormalization,Dropout,Flatten\n",
    "#Conv2DTranspose is used to go in a reverse order in neural network,reverse of feed forward\n",
    "from keras.layers import Activation,Reshape,Conv2DTranspose,UpSampling2D\n",
    "from keras.optimizers import RMSprop\n",
    "\n",
    "import pandas as pd\n",
    "from matplotlib import pyplot as plt\n",
    "%matplotlib inline"
   ]
  },
  {
   "cell_type": "code",
   "execution_count": 2,
   "metadata": {},
   "outputs": [],
   "source": [
    "input_images = 'db/apple.npy'\n",
    "data=np.load(input_images)"
   ]
  },
  {
   "cell_type": "code",
   "execution_count": 3,
   "metadata": {},
   "outputs": [
    {
     "data": {
      "text/plain": [
       "(144722, 784)"
      ]
     },
     "execution_count": 3,
     "metadata": {},
     "output_type": "execute_result"
    }
   ],
   "source": [
    "data.shape"
   ]
  },
  {
   "cell_type": "code",
   "execution_count": 4,
   "metadata": {},
   "outputs": [
    {
     "data": {
      "text/plain": [
       "array([  0,   0,   0,   0,   0,   0,   0,   0,   0,   0,   0,   0,   0,\n",
       "         0,   0,   0,   0,   0,   0,   0,   0,   0,   0,   0,   0,   0,\n",
       "         0,   0,   0,   0,   0,   0,   0,   0,   0,   0,   0,   0,   0,\n",
       "         0,   0,  36,  79,   0,   0,   0,   0,   0,   0,   0,   0,   0,\n",
       "         0,   0,   0,   0,   0,   0,   0,   0,   0,   0,   0,   0,   0,\n",
       "         0,   0,   0,   0, 134, 238,   0,   0,   0,   0,   0,   0,   0,\n",
       "         0,   0,   0,   0,   0,   0,   0,   0,   0,   0,   0,   0,   0,\n",
       "         0,   0,   0,   0,   0,   0, 119, 254,   4,   0,   0,   0,   0,\n",
       "         0,   0,   0,   0,   0,   0,   0,   0,   0,   0,   0,   0,   0,\n",
       "         0,   0,   0,   0,   0,   0,   0,   0, 101, 255,  21,   0,   0,\n",
       "         0,   0,   0,   0,   0,   0,   0,   0,   0,   0,   0,   0,   0,\n",
       "         0,   0,   0,   0,   0,   0,   0,   0,   0,   0,  82, 255,  39,\n",
       "         0,   0,   0,   0,   0,   0,   0,   0,   0,   0,   0,   0,   0,\n",
       "         0,   0,   0,   0,   0,   0,   0,   0,   0,   0,   0,   0,  64,\n",
       "       255,  57,   0,   0,   0,   0,   0,   0,   0,   0,   0,   0,   0,\n",
       "         0,   0,   0,   0,   0,   0,   0,   0,   0,   0,   0,   0,   0,\n",
       "         0,  46, 255,  76,   0,   0,   0,   0,   0,   0,   0,   0,   0,\n",
       "         0,   0,   0,   0,   0,   0,   0,   0,   0,   0,   0,   0,   0,\n",
       "         0,   0,   0,  28, 255,  94,   0,   2,  24,  44,   9,   0,   0,\n",
       "         0,   0,   0,   0,   0,   0,   0,   0,   0,   0,   0,   0,   8,\n",
       "        67, 135, 203, 253, 255, 255, 255, 245, 238, 253, 255, 255, 234,\n",
       "       127,  19,   0,   0,   0,   0,   0,   0,   0,   0,   0,   0,  53,\n",
       "       185, 246, 255, 246, 185, 127, 119, 120, 251, 197, 136, 124,  98,\n",
       "        84, 169, 252, 213,   8,   0,   0,   0,   0,   0,   0,   0,   0,\n",
       "        47, 239, 222, 135,  67,   8,   0,   0,   0,   0, 201, 112,   0,\n",
       "         0,   0,   0,   0,  78, 255,  65,   0,   0,   0,   0,   0,   0,\n",
       "         0,   0, 197, 223,  25,   0,   0,   0,   0,   0,   0,   0,   0,\n",
       "         0,   0,   0,   0,   0,   0,  24, 255, 100,   0,   0,   0,   0,\n",
       "         0,   0,   0,  11, 250, 123,   0,   0,   0,   0,   0,   0,   0,\n",
       "         0,   0,   0,   0,   0,   0,   0,   0,   1, 244, 134,   0,   0,\n",
       "         0,   0,   0,   0,   0,  54, 255,  71,   0,   0,   0,   0,   0,\n",
       "         0,   0,   0,   0,   0,   0,   0,  12,   2,   0,   0, 211, 169,\n",
       "         0,   0,   0,   0,   0,   0,   0,  58, 255, 137,   0,   0,   0,\n",
       "         0,   0,   0,   0,   0,   0,   0,   0,   1, 229, 125,   0,   0,\n",
       "       176, 203,   0,   0,   0,   0,   0,   0,   0,  58, 255, 213,   0,\n",
       "         0,   0,   0,   0,   0,   0,   0,   0,   0,   0,  33, 255, 199,\n",
       "         0,   0, 142, 237,   0,   0,   0,   0,   0,   0,   0,  51, 255,\n",
       "       229,   0,   0,   0,   0,   0,   0,   0,   0,   0,   0,   0,  94,\n",
       "       255, 251,  15,   0, 108, 255,  17,   0,   0,   0,   0,   0,   0,\n",
       "        29, 255, 244,   0,   0,   0,   0,   0,   0,   0,   0,   0,   0,\n",
       "         0, 197, 238, 255,  78,   0,  80, 255,  47,   0,   0,   0,   0,\n",
       "         0,   0,   6, 248, 255,   5,   0,   0,   0,   0,   0,   0,   0,\n",
       "         0,   0,  48, 255, 107, 236, 178,   0, 138, 246,  12,   0,   0,\n",
       "         0,   0,   0,   0,   0, 194, 255,  28,   0,   0,   0,   0,   0,\n",
       "         0,   0,   0,   0, 154, 241,  12, 105, 255,  89, 223, 173,   0,\n",
       "         0,   0,   0,   0,   0,   0,   0, 130, 255,  80,   0,   0,   0,\n",
       "         0,   0,   0,   0,   0,  16, 244, 147,   0,   1, 192, 248, 255,\n",
       "        88,   0,   0,   0,   0,   0,   0,   0,   0,  31, 243, 151,   0,\n",
       "         0,   0,   0,   0,   0,   0,  35, 204, 251,  41,   0,   0,  21,\n",
       "       162, 176,   7,   0,   0,   0,   0,   0,   0,   0,   0,   0, 143,\n",
       "       249,  39,   0,   0,   0,   0,   0,  88, 241, 232,  68,   0,   0,\n",
       "         0,   0,   0,   0,   0,   0,   0,   0,   0,   0,   0,   0,   0,\n",
       "         0,  21, 230, 232,  65,  19,  23, 111, 212, 255, 188,  24,   0,\n",
       "         0,   0,   0,   0,   0,   0,   0,   0,   0,   0,   0,   0,   0,\n",
       "         0,   0,   0,   0,  33, 216, 255, 255, 255, 254, 192,  90,   2,\n",
       "         0,   0,   0,   0,   0,   0,   0,   0,   0,   0,   0,   0,   0,\n",
       "         0,   0,   0,   0,   0,   0,   0,  16,  81, 105, 109,  35,   0,\n",
       "         0,   0,   0,   0,   0,   0,   0,   0,   0,   0,   0,   0,   0,\n",
       "         0,   0,   0,   0,   0,   0,   0,   0,   0,   0,   0,   0,   0,\n",
       "         0,   0,   0,   0,   0,   0,   0,   0,   0,   0,   0,   0,   0,\n",
       "         0,   0,   0,   0], dtype=uint8)"
      ]
     },
     "execution_count": 4,
     "metadata": {},
     "output_type": "execute_result"
    }
   ],
   "source": [
    "data[4242]"
   ]
  },
  {
   "cell_type": "code",
   "execution_count": 5,
   "metadata": {},
   "outputs": [
    {
     "data": {
      "text/plain": [
       "(144722, 28, 28, 1)"
      ]
     },
     "execution_count": 5,
     "metadata": {},
     "output_type": "execute_result"
    }
   ],
   "source": [
    "data=data/255\n",
    "data=np.reshape(data,(data.shape[0],28,28,1))\n",
    "img_w,img_h=data.shape[1:3]\n",
    "data.shape"
   ]
  },
  {
   "cell_type": "code",
   "execution_count": 6,
   "metadata": {},
   "outputs": [
    {
     "data": {
      "text/plain": [
       "<matplotlib.image.AxesImage at 0x277ff816908>"
      ]
     },
     "execution_count": 6,
     "metadata": {},
     "output_type": "execute_result"
    },
    {
     "data": {
      "image/png": "[encoded data removed]",
      "text/plain": [
       "<Figure size 432x288 with 1 Axes>"
      ]
     },
     "metadata": {
      "needs_background": "light"
     },
     "output_type": "display_data"
    }
   ],
   "source": [
    "plt.imshow(data[4242,:,:,0],cmap='Greys')"
   ]
  },
  {
   "cell_type": "code",
   "execution_count": 36,
   "metadata": {},
   "outputs": [],
   "source": [
    "# Here we a creating a convolutional network and we are increasing the depth as we go to next layer\n",
    "# We are feeding the result from previous layer to new set of layers so that we can convolve on previous results.\n",
    "def discriminator_builder(depth=64,p=0.4):\n",
    "    inputs=Input((img_w,img_h,1))\n",
    "    \n",
    "    #Conv2D has 64 neurons because depth is defined above as 64\n",
    "    #We are feeding back the first layer to same layer with a Droupout so that irrelevent pixels are droupped out.\n",
    "    #Map size is 5X5 and strides the postion after which next map should be located is 2\n",
    "    Conv1=Conv2D(depth*1,5,strides=2,padding='same',activation='relu')(inputs)\n",
    "    Conv1=Dropout(p) (Conv1)\n",
    "    \n",
    "    #Here we are trying to deepen the network by increasing the neurons.\n",
    "    Conv2=Conv2D(depth*2,5,strides=2,padding='same',activation='relu')(Conv1)\n",
    "    Conv2=Dropout(p) (Conv2)\n",
    "    \n",
    "    Conv3=Conv2D(depth*4,5,strides=2,padding='same',activation='relu')(Conv2)\n",
    "    Conv3=Dropout(p) (Conv3)\n",
    "    \n",
    "    #Here as we are increasing neurons we have reduced the position after next map should be taken\n",
    "    #This helps to moniter the image more closely.\n",
    "    #So after removal of waste areas from map now we can moniter the image more closely so it will focus on needed areas more effectively \n",
    "    Conv4=Conv2D(depth*8,5,strides=1,padding='same',activation='relu')(Conv3)\n",
    "    Conv4=Flatten() (Dropout(p)(Conv4))\n",
    "    \n",
    "    #Conv5=Conv2D(depth*16,5,strides=1,padding='same',activation='relu')(Conv4)\n",
    "    #Conv5=Dropout(p) (Conv5)\n",
    "    \n",
    "    output=Dense(1,activation='sigmoid')(Conv4)\n",
    "    model=Model(inputs = inputs,outputs=output)\n",
    "    model.summary()\n",
    "    return model"
   ]
  },
  {
   "cell_type": "code",
   "execution_count": 37,
   "metadata": {},
   "outputs": [
    {
     "name": "stdout",
     "output_type": "stream",
     "text": [
      "_________________________________________________________________\n",
      "Layer (type)                 Output Shape              Param #   \n",
      "=================================================================\n",
      "input_5 (InputLayer)         (None, 28, 28, 1)         0         \n",
      "_________________________________________________________________\n",
      "conv2d_15 (Conv2D)           (None, 14, 14, 64)        1664      \n",
      "_________________________________________________________________\n",
      "dropout_15 (Dropout)         (None, 14, 14, 64)        0         \n",
      "_________________________________________________________________\n",
      "conv2d_16 (Conv2D)           (None, 7, 7, 128)         204928    \n",
      "_________________________________________________________________\n",
      "dropout_16 (Dropout)         (None, 7, 7, 128)         0         \n",
      "_________________________________________________________________\n",
      "conv2d_17 (Conv2D)           (None, 4, 4, 256)         819456    \n",
      "_________________________________________________________________\n",
      "dropout_17 (Dropout)         (None, 4, 4, 256)         0         \n",
      "_________________________________________________________________\n",
      "conv2d_18 (Conv2D)           (None, 4, 4, 512)         3277312   \n",
      "_________________________________________________________________\n",
      "dropout_18 (Dropout)         (None, 4, 4, 512)         0         \n",
      "_________________________________________________________________\n",
      "flatten_1 (Flatten)          (None, 8192)              0         \n",
      "_________________________________________________________________\n",
      "dense_5 (Dense)              (None, 1)                 8193      \n",
      "=================================================================\n",
      "Total params: 4,311,553\n",
      "Trainable params: 4,311,553\n",
      "Non-trainable params: 0\n",
      "_________________________________________________________________\n"
     ]
    }
   ],
   "source": [
    "discriminator=discriminator_builder()"
   ]
  },
  {
   "cell_type": "code",
   "execution_count": 38,
   "metadata": {},
   "outputs": [],
   "source": [
    "discriminator.compile(loss='binary_crossentropy',optimizer=RMSprop(lr=0.0008,decay=6e-8,clipvalue=1.0),metrics=['accuracy'])"
   ]
  },
  {
   "cell_type": "code",
   "execution_count": 10,
   "metadata": {},
   "outputs": [],
   "source": [
    "#This is generator network which is de convolutional.\n",
    "#The latent space is 100 dimensions\n",
    "def generator_builder(z_dim=100,depth=64,p=0.4):\n",
    "    #Define Inputs\n",
    "    inputs=Input((z_dim,))\n",
    "    \n",
    "    #First Dense Layer\n",
    "    #We are starting with 7 by 7 pixel size\n",
    "    dense1=Dense(7*7*64)(inputs)\n",
    "    dense1=BatchNormalization(momentum=0.9)(dense1) #default momentum for moving average is 0.99\n",
    "    dense1=Activation(activation='relu')(dense1)\n",
    "    dense1=Reshape((7,7,64))(dense1)\n",
    "    dense1=Dropout(p)(dense1)\n",
    "    \n",
    "    #De-Convolutional layers\n",
    "    conv1=UpSampling2D()(dense1)\n",
    "    conv1 = Conv2DTranspose(int(depth/2),kernel_size=5,padding='same',activation=None,)(conv1)\n",
    "    conv1=BatchNormalization(momentum=0.9)(conv1)\n",
    "    conv1=Activation(activation='relu')(conv1)\n",
    "    \n",
    "    conv2=UpSampling2D()(conv1)\n",
    "    conv2 = Conv2DTranspose(int(depth/4),kernel_size=5,padding='same',activation=None,)(conv2)\n",
    "    conv2=BatchNormalization(momentum=0.9)(conv2)\n",
    "    conv2=Activation(activation='relu')(conv2)\n",
    "    \n",
    "    #conv3=UpSampling2D()(conv2)\n",
    "    #conv3 = Conv2DTranspose(int(depth/8),kernel_size=5,padding='same',activation=None,)(conv3)\n",
    "    #conv3=BatchNormalization(momentum=0.9)(conv3)\n",
    "    #conv3=Activation(activation='relu')(conv3)\n",
    "    \n",
    "    #conv4=UpSampling2D()(conv3)\n",
    "    #conv4 = Conv2DTranspose(int(depth/16),kernel_size=5,padding='same',activation=None,)(conv4)\n",
    "    #conv4=BatchNormalization(momentum=0.9)(conv4)\n",
    "    #conv4=Activation(activation='relu')(conv4)\n",
    "    \n",
    "    #Output Layer\n",
    "    output=Conv2D(1,kernel_size=5,padding='same',activation='sigmoid')(conv2)\n",
    "    \n",
    "    #Model defination\n",
    "    model=Model(inputs=inputs,outputs=output)\n",
    "    model.summary()\n",
    "    \n",
    "    return model"
   ]
  },
  {
   "cell_type": "code",
   "execution_count": 11,
   "metadata": {},
   "outputs": [
    {
     "name": "stdout",
     "output_type": "stream",
     "text": [
      "_________________________________________________________________\n",
      "Layer (type)                 Output Shape              Param #   \n",
      "=================================================================\n",
      "input_2 (InputLayer)         (None, 100)               0         \n",
      "_________________________________________________________________\n",
      "dense_2 (Dense)              (None, 3136)              316736    \n",
      "_________________________________________________________________\n",
      "batch_normalization_1 (Batch (None, 3136)              12544     \n",
      "_________________________________________________________________\n",
      "activation_1 (Activation)    (None, 3136)              0         \n",
      "_________________________________________________________________\n",
      "reshape_1 (Reshape)          (None, 7, 7, 64)          0         \n",
      "_________________________________________________________________\n",
      "dropout_6 (Dropout)          (None, 7, 7, 64)          0         \n",
      "_________________________________________________________________\n",
      "up_sampling2d_1 (UpSampling2 (None, 14, 14, 64)        0         \n",
      "_________________________________________________________________\n",
      "conv2d_transpose_1 (Conv2DTr (None, 14, 14, 32)        51232     \n",
      "_________________________________________________________________\n",
      "batch_normalization_2 (Batch (None, 14, 14, 32)        128       \n",
      "_________________________________________________________________\n",
      "activation_2 (Activation)    (None, 14, 14, 32)        0         \n",
      "_________________________________________________________________\n",
      "up_sampling2d_2 (UpSampling2 (None, 28, 28, 32)        0         \n",
      "_________________________________________________________________\n",
      "conv2d_transpose_2 (Conv2DTr (None, 28, 28, 16)        12816     \n",
      "_________________________________________________________________\n",
      "batch_normalization_3 (Batch (None, 28, 28, 16)        64        \n",
      "_________________________________________________________________\n",
      "activation_3 (Activation)    (None, 28, 28, 16)        0         \n",
      "_________________________________________________________________\n",
      "conv2d_6 (Conv2D)            (None, 28, 28, 1)         401       \n",
      "=================================================================\n",
      "Total params: 393,921\n",
      "Trainable params: 387,553\n",
      "Non-trainable params: 6,368\n",
      "_________________________________________________________________\n"
     ]
    }
   ],
   "source": [
    "generator=generator_builder()"
   ]
  },
  {
   "cell_type": "code",
   "execution_count": 12,
   "metadata": {},
   "outputs": [],
   "source": [
    "def adversarial_builder(z_dim=100):\n",
    "    model=Sequential()\n",
    "    model.add(generator)\n",
    "    model.add(discriminator)\n",
    "    model.compile(loss='binary_crossentropy',\n",
    "                 optimizer=RMSprop(lr=0.0004,decay=3e-8,clipvalue=1.0),\n",
    "                 metrics=['accuracy'])\n",
    "    model.summary()\n",
    "    return model"
   ]
  },
  {
   "cell_type": "code",
   "execution_count": 13,
   "metadata": {},
   "outputs": [
    {
     "name": "stdout",
     "output_type": "stream",
     "text": [
      "_________________________________________________________________\n",
      "Layer (type)                 Output Shape              Param #   \n",
      "=================================================================\n",
      "model_2 (Model)              (None, 28, 28, 1)         393921    \n",
      "_________________________________________________________________\n",
      "model_1 (Model)              (None, 4, 4, 1)           17412609  \n",
      "=================================================================\n",
      "Total params: 17,806,530\n",
      "Trainable params: 17,800,162\n",
      "Non-trainable params: 6,368\n",
      "_________________________________________________________________\n"
     ]
    }
   ],
   "source": [
    "adversarial_model=adversarial_builder()"
   ]
  },
  {
   "cell_type": "code",
   "execution_count": 14,
   "metadata": {},
   "outputs": [],
   "source": [
    "def make_trainable(net,val):\n",
    "    net.trainable=val\n",
    "    for l in net.layers:\n",
    "        l.trainable=val"
   ]
  },
  {
   "cell_type": "code",
   "execution_count": 15,
   "metadata": {},
   "outputs": [
    {
     "data": {
      "text/plain": [
       "array([[-0.330347  ,  0.67188214, -0.50561659, ...,  0.18256766,\n",
       "         0.26829301, -0.62563091],\n",
       "       [-0.24880653,  0.97833582,  0.559308  , ..., -0.63743822,\n",
       "         0.54057148,  0.30840698],\n",
       "       [ 0.56002578,  0.89078842,  0.06489619, ...,  0.70738809,\n",
       "         0.43421712,  0.40820263],\n",
       "       ...,\n",
       "       [-0.28730746, -0.75959398,  0.88790414, ..., -0.06464776,\n",
       "         0.02944465, -0.31985469],\n",
       "       [-0.0414386 ,  0.46622404, -0.41439007, ..., -0.86324118,\n",
       "         0.62795686, -0.57426689],\n",
       "       [-0.45462988, -0.46852023,  0.95303739, ..., -0.59686651,\n",
       "         0.60096721, -0.97008095]])"
      ]
     },
     "execution_count": 15,
     "metadata": {},
     "output_type": "execute_result"
    }
   ],
   "source": [
    "np.random.uniform(-1.0,1.0,size=[128,100])"
   ]
  },
  {
   "cell_type": "code",
   "execution_count": 16,
   "metadata": {},
   "outputs": [
    {
     "data": {
      "text/plain": [
       "(128, 28, 28, 1)"
      ]
     },
     "execution_count": 16,
     "metadata": {},
     "output_type": "execute_result"
    }
   ],
   "source": [
    "data[np.random.choice(data.shape[0],128,replace=False)].shape"
   ]
  },
  {
   "cell_type": "code",
   "execution_count": 17,
   "metadata": {},
   "outputs": [
    {
     "data": {
      "text/plain": [
       "(128, 28, 28, 1)"
      ]
     },
     "execution_count": 17,
     "metadata": {},
     "output_type": "execute_result"
    }
   ],
   "source": [
    "np.reshape(data[np.random.choice(data.shape[0],128,replace=False)],(128,28,28,1)).shape"
   ]
  },
  {
   "cell_type": "code",
   "execution_count": 18,
   "metadata": {},
   "outputs": [
    {
     "data": {
      "text/plain": [
       "(256, 28, 28, 1)"
      ]
     },
     "execution_count": 18,
     "metadata": {},
     "output_type": "execute_result"
    }
   ],
   "source": [
    "#generator.predict(np.random.uniform(-1.0,1.0,size=[128,100])).shape\n",
    "real_imgs=np.reshape(data[np.random.choice(data.shape[0],128,replace=False)],(128,28,28,1))\n",
    "fake_imgs=generator.predict(np.random.uniform(-1.0,1.0,size=[128,100]))\n",
    "\n",
    "x=np.concatenate((real_imgs,fake_imgs))\n",
    "y=np.ones([2*128,28,28,1])\n",
    "y[128:,:]=0\n",
    "#x.shape\n",
    "y.shape"
   ]
  },
  {
   "cell_type": "code",
   "execution_count": 29,
   "metadata": {},
   "outputs": [],
   "source": [
    "def train(epochs=2000,batch=128):\n",
    "    d_metrics=[]\n",
    "    a_metrics=[]\n",
    "    \n",
    "    running_d_loss=0\n",
    "    running_d_acc=0\n",
    "    running_a_loss=0\n",
    "    running_a_acc=0\n",
    "    \n",
    "    for i in range(epochs):\n",
    "        if(i%100==0):\n",
    "            print(i)\n",
    "            \n",
    "        real_imgs=np.reshape(data[np.random.choice(data.shape[0],batch,replace=False)],(batch,28,28,1))\n",
    "        fake_imgs=generator.predict(np.random.uniform(-1.0,1.0,size=[batch,100]))\n",
    "        \n",
    "        x=np.concatenate((real_imgs,fake_imgs))\n",
    "        y=np.ones([2*batch,1])\n",
    "        #y=np.ones([2*batch,4,4,1])\n",
    "        y[batch:,:]=0\n",
    "        \n",
    "        make_trainable(discriminator,True)\n",
    "        d_metrics.append(discriminator.train_on_batch(x,y))\n",
    "        running_d_loss += d_metrics[-1][0]\n",
    "        running_d_acc += d_metrics[-1][1]\n",
    "        \n",
    "        make_trainable(discriminator,False)\n",
    "        \n",
    "        noise=np.random.uniform(-1.0,1.0,size=[batch,100])\n",
    "        y=np.ones([batch,1])\n",
    "        #y=np.ones([batch,4,4,1])\n",
    "        \n",
    "        make_trainable(adversarial_model,True)\n",
    "        a_metrics.append(adversarial_model.train_on_batch(noise,y))\n",
    "        running_a_loss += a_metrics[-1][0]\n",
    "        running_a_acc += a_metrics[-1][1]\n",
    "        make_trainable(adversarial_model,False)\n",
    "        \n",
    "        if(i+1)%500 == 0:\n",
    "            print('Epoch #{}'.format(i+1))\n",
    "            log_mesg=\"%d: [D loss:%f,acc:%f]\" % (i,running_d_loss/i,running_d_acc/i)\n",
    "            log_mesg=\"%s  [A loss:%f,acc:%f]\" % (log_mesg,running_a_loss/i,running_a_acc/i)\n",
    "            print(log_mesg)\n",
    "            \n",
    "        noise=np.random.uniform(-1.0,1.0,size=[16,100])\n",
    "        gen_imgs=generator.predict(noise)\n",
    "            \n",
    "        plt.figure(figsize=(5,5))\n",
    "            \n",
    "        for k in range(gen_imgs.shape[0]):\n",
    "            plt.subplot(4,4,k+1)\n",
    "            plt.imshow(gen_imgs[k, :, :, 0], cmap='gray')\n",
    "            plt.axis('off')\n",
    "            plt.tight_layout()\n",
    "        ax=pd.DataFrame(\n",
    "        {\n",
    "            'Generator':[metrics[0] for metric in a_metrics_complete],\n",
    "            'Discriminator':[metrics[0] for metric in d_metrics_complete]\n",
    "        }).plot(title='Training Loss',logy=True)\n",
    "        ax.set_xlabel(\"Epochs\")\n",
    "        ax.set_ylabel(\"Loss\")\n",
    "        plt.show()\n",
    "    return a_metrics,d_metrics"
   ]
  },
  {
   "cell_type": "code",
   "execution_count": 30,
   "metadata": {},
   "outputs": [
    {
     "name": "stdout",
     "output_type": "stream",
     "text": [
      "0\n"
     ]
    },
    {
     "ename": "NameError",
     "evalue": "name 'metrics' is not defined",
     "output_type": "error",
     "traceback": [
      "\u001b[1;31m---------------------------------------------------------------------------\u001b[0m",
      "\u001b[1;31mNameError\u001b[0m                                 Traceback (most recent call last)",
      "\u001b[1;32m<ipython-input-30-e12f0ce4b4b7>\u001b[0m in \u001b[0;36m<module>\u001b[1;34m\u001b[0m\n\u001b[1;32m----> 1\u001b[1;33m \u001b[0ma_metrics_complete\u001b[0m\u001b[1;33m,\u001b[0m\u001b[0md_metrics_complete\u001b[0m\u001b[1;33m=\u001b[0m\u001b[0mtrain\u001b[0m\u001b[1;33m(\u001b[0m\u001b[0mepochs\u001b[0m\u001b[1;33m=\u001b[0m\u001b[1;36m1\u001b[0m\u001b[1;33m)\u001b[0m\u001b[1;33m\u001b[0m\u001b[1;33m\u001b[0m\u001b[0m\n\u001b[0m",
      "\u001b[1;32m<ipython-input-29-b2a5f3eba29f>\u001b[0m in \u001b[0;36mtrain\u001b[1;34m(epochs, batch)\u001b[0m\n\u001b[0;32m     55\u001b[0m         ax=pd.DataFrame(\n\u001b[0;32m     56\u001b[0m         {\n\u001b[1;32m---> 57\u001b[1;33m             \u001b[1;34m'Generator'\u001b[0m\u001b[1;33m:\u001b[0m\u001b[1;33m[\u001b[0m\u001b[0mmetrics\u001b[0m\u001b[1;33m[\u001b[0m\u001b[1;36m0\u001b[0m\u001b[1;33m]\u001b[0m \u001b[1;32mfor\u001b[0m \u001b[0mmetric\u001b[0m \u001b[1;32min\u001b[0m \u001b[0ma_metrics_complete\u001b[0m\u001b[1;33m]\u001b[0m\u001b[1;33m,\u001b[0m\u001b[1;33m\u001b[0m\u001b[1;33m\u001b[0m\u001b[0m\n\u001b[0m\u001b[0;32m     58\u001b[0m             \u001b[1;34m'Discriminator'\u001b[0m\u001b[1;33m:\u001b[0m\u001b[1;33m[\u001b[0m\u001b[0mmetrics\u001b[0m\u001b[1;33m[\u001b[0m\u001b[1;36m0\u001b[0m\u001b[1;33m]\u001b[0m \u001b[1;32mfor\u001b[0m \u001b[0mmetric\u001b[0m \u001b[1;32min\u001b[0m \u001b[0md_metrics_complete\u001b[0m\u001b[1;33m]\u001b[0m\u001b[1;33m\u001b[0m\u001b[1;33m\u001b[0m\u001b[0m\n\u001b[0;32m     59\u001b[0m         }).plot(title='Training Loss',logy=True)\n",
      "\u001b[1;32m<ipython-input-29-b2a5f3eba29f>\u001b[0m in \u001b[0;36m<listcomp>\u001b[1;34m(.0)\u001b[0m\n\u001b[0;32m     55\u001b[0m         ax=pd.DataFrame(\n\u001b[0;32m     56\u001b[0m         {\n\u001b[1;32m---> 57\u001b[1;33m             \u001b[1;34m'Generator'\u001b[0m\u001b[1;33m:\u001b[0m\u001b[1;33m[\u001b[0m\u001b[0mmetrics\u001b[0m\u001b[1;33m[\u001b[0m\u001b[1;36m0\u001b[0m\u001b[1;33m]\u001b[0m \u001b[1;32mfor\u001b[0m \u001b[0mmetric\u001b[0m \u001b[1;32min\u001b[0m \u001b[0ma_metrics_complete\u001b[0m\u001b[1;33m]\u001b[0m\u001b[1;33m,\u001b[0m\u001b[1;33m\u001b[0m\u001b[1;33m\u001b[0m\u001b[0m\n\u001b[0m\u001b[0;32m     58\u001b[0m             \u001b[1;34m'Discriminator'\u001b[0m\u001b[1;33m:\u001b[0m\u001b[1;33m[\u001b[0m\u001b[0mmetrics\u001b[0m\u001b[1;33m[\u001b[0m\u001b[1;36m0\u001b[0m\u001b[1;33m]\u001b[0m \u001b[1;32mfor\u001b[0m \u001b[0mmetric\u001b[0m \u001b[1;32min\u001b[0m \u001b[0md_metrics_complete\u001b[0m\u001b[1;33m]\u001b[0m\u001b[1;33m\u001b[0m\u001b[1;33m\u001b[0m\u001b[0m\n\u001b[0;32m     59\u001b[0m         }).plot(title='Training Loss',logy=True)\n",
      "\u001b[1;31mNameError\u001b[0m: name 'metrics' is not defined"
     ]
    },
    {
     "data": {
      "image/png": "[encoded data removed]",
      "text/plain": [
       "<Figure size 360x360 with 16 Axes>"
      ]
     },
     "metadata": {
      "needs_background": "light"
     },
     "output_type": "display_data"
    }
   ],
   "source": [
    "a_metrics_complete,d_metrics_complete=train(epochs=100)"
   ]
  },
  {
   "cell_type": "code",
   "execution_count": 24,
   "metadata": {},
   "outputs": [
    {
     "ename": "NameError",
     "evalue": "name 'metrics' is not defined",
     "output_type": "error",
     "traceback": [
      "\u001b[1;31m---------------------------------------------------------------------------\u001b[0m",
      "\u001b[1;31mNameError\u001b[0m                                 Traceback (most recent call last)",
      "\u001b[1;32m<ipython-input-24-487d6dafcc0a>\u001b[0m in \u001b[0;36m<module>\u001b[1;34m\u001b[0m\n\u001b[0;32m      1\u001b[0m ax=pd.DataFrame(\n\u001b[0;32m      2\u001b[0m     {\n\u001b[1;32m----> 3\u001b[1;33m         \u001b[1;34m'Generator'\u001b[0m\u001b[1;33m:\u001b[0m\u001b[1;33m[\u001b[0m\u001b[0mmetrics\u001b[0m\u001b[1;33m[\u001b[0m\u001b[1;36m0\u001b[0m\u001b[1;33m]\u001b[0m \u001b[1;32mfor\u001b[0m \u001b[0mmetric\u001b[0m \u001b[1;32min\u001b[0m \u001b[0ma_metrics_complete\u001b[0m\u001b[1;33m]\u001b[0m\u001b[1;33m,\u001b[0m\u001b[1;33m\u001b[0m\u001b[1;33m\u001b[0m\u001b[0m\n\u001b[0m\u001b[0;32m      4\u001b[0m         \u001b[1;34m'Discriminator'\u001b[0m\u001b[1;33m:\u001b[0m\u001b[1;33m[\u001b[0m\u001b[0mmetrics\u001b[0m\u001b[1;33m[\u001b[0m\u001b[1;36m0\u001b[0m\u001b[1;33m]\u001b[0m \u001b[1;32mfor\u001b[0m \u001b[0mmetric\u001b[0m \u001b[1;32min\u001b[0m \u001b[0md_metrics_complete\u001b[0m\u001b[1;33m]\u001b[0m\u001b[1;33m\u001b[0m\u001b[1;33m\u001b[0m\u001b[0m\n\u001b[0;32m      5\u001b[0m     }\n",
      "\u001b[1;32m<ipython-input-24-487d6dafcc0a>\u001b[0m in \u001b[0;36m<listcomp>\u001b[1;34m(.0)\u001b[0m\n\u001b[0;32m      1\u001b[0m ax=pd.DataFrame(\n\u001b[0;32m      2\u001b[0m     {\n\u001b[1;32m----> 3\u001b[1;33m         \u001b[1;34m'Generator'\u001b[0m\u001b[1;33m:\u001b[0m\u001b[1;33m[\u001b[0m\u001b[0mmetrics\u001b[0m\u001b[1;33m[\u001b[0m\u001b[1;36m0\u001b[0m\u001b[1;33m]\u001b[0m \u001b[1;32mfor\u001b[0m \u001b[0mmetric\u001b[0m \u001b[1;32min\u001b[0m \u001b[0ma_metrics_complete\u001b[0m\u001b[1;33m]\u001b[0m\u001b[1;33m,\u001b[0m\u001b[1;33m\u001b[0m\u001b[1;33m\u001b[0m\u001b[0m\n\u001b[0m\u001b[0;32m      4\u001b[0m         \u001b[1;34m'Discriminator'\u001b[0m\u001b[1;33m:\u001b[0m\u001b[1;33m[\u001b[0m\u001b[0mmetrics\u001b[0m\u001b[1;33m[\u001b[0m\u001b[1;36m0\u001b[0m\u001b[1;33m]\u001b[0m \u001b[1;32mfor\u001b[0m \u001b[0mmetric\u001b[0m \u001b[1;32min\u001b[0m \u001b[0md_metrics_complete\u001b[0m\u001b[1;33m]\u001b[0m\u001b[1;33m\u001b[0m\u001b[1;33m\u001b[0m\u001b[0m\n\u001b[0;32m      5\u001b[0m     }\n",
      "\u001b[1;31mNameError\u001b[0m: name 'metrics' is not defined"
     ]
    }
   ],
   "source": [
    "ax=pd.DataFrame(\n",
    "    {\n",
    "        'Generator':[metrics[0] for metric in a_metrics_complete],\n",
    "        'Discriminator':[metrics[0] for metric in d_metrics_complete]\n",
    "    }\n",
    ").plot(title='Training Loss',logy=True)\n",
    "ax.set_xlabel(\"Epochs\")\n",
    "ax.set_ylabel(\"Loss\")"
   ]
  },
  {
   "cell_type": "code",
   "execution_count": null,
   "metadata": {},
   "outputs": [],
   "source": [
    "ax=pd.DataFrame(\n",
    "    {\n",
    "        'Generator':[metrics[1] for metric in a_metrics_complete],\n",
    "        'Discriminator':[metrics[1] for metric in d_metrics_complete]\n",
    "    }\n",
    ").plot(title='Training Accuracy')\n",
    "ax.set_xlabel(\"Epochs\")\n",
    "ax.set_ylabel(\"Accuracy\")"
   ]
  },
  {
   "cell_type": "code",
   "execution_count": null,
   "metadata": {},
   "outputs": [],
   "source": []
  }
 ],
 "metadata": {
  "kernelspec": {
   "display_name": "Python 3",
   "language": "python",
   "name": "python3"
  },
  "language_info": {
   "codemirror_mode": {
    "name": "ipython",
    "version": 3
   },
   "file_extension": ".py",
   "mimetype": "text/x-python",
   "name": "python",
   "nbconvert_exporter": "python",
   "pygments_lexer": "ipython3",
   "version": "3.6.8"
  }
 },
 "nbformat": 4,
 "nbformat_minor": 2
}
